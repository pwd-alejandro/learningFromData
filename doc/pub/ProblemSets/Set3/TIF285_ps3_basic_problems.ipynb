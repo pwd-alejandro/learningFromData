{
 "cells": [
  {
   "cell_type": "markdown",
   "metadata": {},
   "source": [
    "## Instructions\n",
    "- See deadline on the course web page\n",
    "- This problem set is performed individually. See examination rules on the course web page.\n",
    "- Students are allowed to discuss together and help each other when solving the problems. However, every student must understand and be able to explain his/her submitted solution. Plagiarism is not allowed (submissions will be both manually and automatically monitored).\n",
    "- The two notebooks for each problem set contain a number of basic and extra problems; you can choose which and how many to work on.\n",
    "- Many problems are automatically graded using `assert` statements. You should check that your code passes these statements without raising an `AssertionError`. Note that there might be additional, hidden tests that must be passed for full credit. In addition, some tasks are either completely manually graded or part-automatic/part-manual.\n",
    "- Note that grading is performed in the teacher's python environment, which is based on the conda `environment.yml` file in the course github repo. Please avoid using additional python modules (such as `plotly`) as this might cause automatic tests to fail.\n",
    "\n",
    "- **Important:** Hand-in is performed through the following actions:\n",
    "  - Make sure to always complete **Task 0** in the header part of the notebook and that this part does not raise any `AssertionError`(s). \n",
    "  - Upload your solution in the form of your edited version of this jupyter notebook via the appropriate module in Canvas.\n",
    "  - The name of the uploaded file **must be the same as the original one**!\n",
    "  \n",
    "  Note that the hand-in might not be automatically graded if you have changed the name of the uploaded file."
   ]
  },
  {
   "cell_type": "markdown",
   "metadata": {},
   "source": [
    "- Before you turn this problem in, make sure everything runs as expected. First, **restart the kernel** (in the menubar, select Kernel$\\rightarrow$Restart) and then **run all cells** (in the menubar, select Cell$\\rightarrow$Run All).\n",
    "\n",
    "- Make sure that the **run time is smaller than a few minutes**. If needed you might have to reduce some computational tasks; e.g. by decreasing the number of grid points or sampling steps. Please ask the supervisors if you are uncertain about the run time. \n",
    "\n",
    "- Your solutions are usually expected where it says `YOUR CODE HERE` or <font color=\"red\">\"PLEASE WRITE YOUR ANSWER HERE\"</font>."
   ]
  },
  {
   "cell_type": "markdown",
   "metadata": {},
   "source": [
    "### Task 0 \n",
    "#### (0 points)\n",
    "Fill your personal details in the dictionary 'student' with the following key/value pairs:\n",
    "- **Lastname**: Your lastname as a string\n",
    "- **Firstname**: Your firstname as a string\n",
    "- **DOB-year**: The year for your date of birth as a four-digit integer\n",
    "- **DOB-month**: The month for your date of birth as an integer (1-12)\n",
    "- **DOB-day**: The year for your date of birth as an integer (1-31)\n",
    "- **CID**: Your Chalmers login ID as a string"
   ]
  },
  {
   "cell_type": "code",
   "execution_count": 2,
   "metadata": {
    "deletable": false,
    "nbgrader": {
     "cell_type": "code",
     "checksum": "7e5a863952e8c2244ba81d9a82755064",
     "grade": false,
     "grade_id": "student_info",
     "locked": false,
     "schema_version": 3,
     "solution": true,
     "task": false
    }
   },
   "outputs": [],
   "source": [
    "student={}\n",
    "# Update the values below. Note the formats.\n",
    "student['Lastname']='Lozada'  # string\n",
    "student['Firstname']='Alejandro' # string\n",
    "student['CID']='lozadaa'        # string\n",
    "student['DOB-year']=1997         # four-digit integer\n",
    "student['DOB-month']=4           # integer in the range [1, 12]\n",
    "student['DOB-day']=17             # integer in the range [1, 31]\n",
    "\n",
    "# YOUR CODE HERE"
   ]
  },
  {
   "cell_type": "code",
   "execution_count": 3,
   "metadata": {
    "deletable": false,
    "editable": false,
    "nbgrader": {
     "cell_type": "code",
     "checksum": "04fad85b593dac43e9a577b7ad0eda92",
     "grade": true,
     "grade_id": "correct_student_info",
     "locked": true,
     "points": 0,
     "schema_version": 3,
     "solution": false,
     "task": false
    }
   },
   "outputs": [],
   "source": [
    "for key in ['Lastname', 'Firstname','CID']:\n",
    "    assert type(student[key]) is str, f'{key} is wrong type.'\n",
    "    assert student[key] not in ['name_here','cid_here'],\\\n",
    "        f'Fill your {key} as a string.'\n",
    "\n",
    "for key in ['DOB-year', 'DOB-month','DOB-day']:\n",
    "    assert type(student[key]) is int, f'{key} is wrong type.'\n",
    "\n",
    "assert (student['DOB-year'] > 1900 and student['DOB-year'] < 2100)\n",
    "assert student['DOB-month'] in range(1,13), \\\n",
    "    'DOB month should be an integer in the range [1, 12]'\n",
    "assert student['DOB-day'] in range(1,32), \\\n",
    "    'DOB day should be an integer in the range [1, 31]'"
   ]
  },
  {
   "cell_type": "markdown",
   "metadata": {
    "deletable": false,
    "editable": false,
    "nbgrader": {
     "cell_type": "markdown",
     "checksum": "8e21e909aaacb19cde0a49f423690276",
     "grade": false,
     "grade_id": "cell-6f99a2583f9fb27d",
     "locked": true,
     "schema_version": 3,
     "solution": false,
     "task": false
    }
   },
   "source": [
    "By changing the below boolean variable `student_self_assessment` to `True` you attest that:\n",
    "1. All handed in solutions were produced by yourself in the sense that you understand your solutions and should be able to explain and discuss them with a peer or with a teacher.\n",
    "2. That discussions with your peers are allowed, also concerning approaches to solve the problem sets, but that direct plagiarism is not allowed and that you must reach your own understanding of submitted solutions according to the definition in the previous point."
   ]
  },
  {
   "cell_type": "code",
   "execution_count": 4,
   "metadata": {
    "deletable": false,
    "nbgrader": {
     "cell_type": "code",
     "checksum": "3246da2eb074f5c38175d68ad158c48e",
     "grade": false,
     "grade_id": "student-self-assessment",
     "locked": false,
     "schema_version": 3,
     "solution": true,
     "task": false
    }
   },
   "outputs": [],
   "source": [
    "student_self_assessment = True\n",
    "\n",
    "# YOUR CODE HERE"
   ]
  },
  {
   "cell_type": "code",
   "execution_count": 5,
   "metadata": {
    "deletable": false,
    "editable": false,
    "nbgrader": {
     "cell_type": "code",
     "checksum": "d873afed15d2d3de2ef460d53fccf90f",
     "grade": true,
     "grade_id": "cell-795bedd2908899aa",
     "locked": true,
     "points": 0,
     "schema_version": 3,
     "solution": false,
     "task": false
    }
   },
   "outputs": [],
   "source": [
    "assert student_self_assessment == True, 'You must assert the individual solution statements.'"
   ]
  },
  {
   "cell_type": "code",
   "execution_count": 6,
   "metadata": {},
   "outputs": [],
   "source": [
    "# imports\n",
    "import numpy as np\n",
    "from scipy.optimize import fsolve\n",
    "import matplotlib.pyplot as plt\n",
    "import seaborn as sns"
   ]
  },
  {
   "cell_type": "markdown",
   "metadata": {},
   "source": [
    "# Problem Set 3\n",
    "## Basic problems\n",
    "### Learning from data [TIF285], Chalmers, Fall 2022\n",
    "\n",
    "Last revised: 26-Sep-2022 by Christian Forssén [christian.forssen@chalmers.se]"
   ]
  },
  {
   "cell_type": "code",
   "execution_count": 7,
   "metadata": {
    "deletable": false,
    "editable": false,
    "nbgrader": {
     "cell_type": "code",
     "checksum": "c532e9c42f0ac2234f7eb5f88c73672b",
     "grade": false,
     "grade_id": "cell-f3768fbcb502fd03",
     "locked": true,
     "schema_version": 3,
     "solution": false,
     "task": false
    }
   },
   "outputs": [],
   "source": [
    "import os\n",
    "# Data files are stored in\n",
    "DATA_DIR = \"DataFiles/\"\n",
    "\n",
    "if not os.path.exists(DATA_DIR):\n",
    "    os.makedirs(DATA_DIR)"
   ]
  },
  {
   "cell_type": "markdown",
   "metadata": {},
   "source": [
    "## Problem 1: Assigning probabilities for a hundred-sided dice¶\n",
    "### (2 points)"
   ]
  },
  {
   "cell_type": "markdown",
   "metadata": {},
   "source": [
    "Consider a ($M=100$) hundred-sided dice (labeled with 1, 2, 3, ..., 100) for which you know \n",
    "\n",
    "Case 1. that the mean of a large number of rolls is $\\mu_1 = \\frac{1}{100}\\sum_{i=1}^{100} i$.\n",
    "\n",
    "Case 2. that the mean of a large number of rolls is $\\mu_2=40$ and that the standard deviation is $\\sigma_2=25$."
   ]
  },
  {
   "cell_type": "markdown",
   "metadata": {},
   "source": [
    "### Task a)\n",
    "* Use the principle of maximum entropy to assign the probabilities $\\{ p_i \\}_{i=1}^{100}$ for the outcomes of a dice roll in the two different cases. Employ the method of Lagrange multipliers to derive (analytical) expressions for $p_i$.\n",
    "* Your expressions might contain (yet undetermined) Lagrange multipliers.\n",
    "* Use the markdown cell below to perform the analytical derivation and present the results for $p_i$ in case 1 and case 2. Start by writing down the expression for the entropy with the relevant Lagrange-multiplier terms.\n",
    "\n",
    "*Hint: There are various constraints from the known information: the normalization of the probabilities $\\mathcal{N} = \\sum_i p_i = 1$ and the mean result $\\mu=\\sum_i i p_i$. In case 2 there is also a third constraint in the variance $\\sigma^2 = \\sum_i (i-\\mu)^2 p_i$. Set the so called Lebesque measure $m_i = \\mathrm{constant}$.*"
   ]
  },
  {
   "cell_type": "markdown",
   "metadata": {
    "deletable": false,
    "nbgrader": {
     "cell_type": "markdown",
     "checksum": "4ad04b5e4e9938335ecd3e92b373d1be",
     "grade": true,
     "grade_id": "cell-27f8f8a8231099be",
     "locked": false,
     "points": 1,
     "schema_version": 3,
     "solution": true,
     "task": false
    }
   },
   "source": [
    "Case 1:\n",
    "\n",
    "We start by writing our constraints: \n",
    "\n",
    "a) $\\sum_i^{100}ip_i = \\mu_1 = 50.5 \\rightarrow \\sum_i^{100}ip_i - \\mu_1 = 0$\n",
    "\n",
    "b) $\\sum_i^{100}p_i = 1 \\rightarrow \\sum_i^{100}p_i - 1 = 0$ \n",
    "\n",
    "Now, we have our Lagrangian:\n",
    "\n",
    "$\\mathcal{L} = f(x) + \\lambda_0g_0(x) + \\lambda_1g_1(x) $ \n",
    "\n",
    "Where $f(x)$ is the function to optimize (in our case, the entropy) and $\\{g_0, g_1\\}$ constraints \"a\" and \"b\". And so:\n",
    "\n",
    "$Q(\\{p_i\\};\\lambda_0,\\lambda_1) = - \\sum_i^{100}p_ilog(p_i) + \\lambda_0\\left(1-\\sum_i^{100}p_i\\right) + \\lambda_1\\left(\\mu_1 - \\sum_i^{100}ip_i\\right)$\n",
    "\n",
    "Now we need to find $p_i$ for which $Q(\\{p_i\\};\\lambda_0,\\lambda_1)$ has a minimum\n",
    "\n",
    "$\\frac{\\partial Q}{\\partial p_i} = -\\left(log(p_i) + 1\\right) - \\lambda_0 - i\\lambda_1 = 0$\n",
    "\n",
    "$log(p_i) = - 1 - \\lambda_0 - i\\lambda_1$\n",
    "\n",
    "$p_i = e^{-(1+\\lambda_0)}e^{-i\\lambda_1} \\rightarrow p_i = Ne^{-i\\lambda_1}$"
   ]
  },
  {
   "cell_type": "markdown",
   "metadata": {},
   "source": [
    "Case 2:\n",
    "\n",
    "We start by writing our constraints: \n",
    "\n",
    "a) $\\sum_i^{100}ip_i = \\mu_2 = 40 \\rightarrow \\sum_i^{100}ip_i - \\mu_2 = 0$\n",
    "\n",
    "b) $\\sum_i^{100}p_i = 1 \\rightarrow \\sum_i^{100}p_i - 1 = 0$ \n",
    "\n",
    "c) $\\sum_i(i-\\mu_2)^2p_i = \\sigma_2^2 = 25^2 \\rightarrow \\sum_i(i-\\mu_2)^2p_i - \\sigma_2^2 = 0$\n",
    "\n",
    "Now, we have our Lagrangian:\n",
    "\n",
    "$\\mathcal{L} = f(x) + \\lambda_0g_0(x) + \\lambda_1g_1(x) + \\lambda_2g_2(x)$ \n",
    "\n",
    "Where $f(x)$ is the function to optimize (in our case, the entropy) and $\\{g_0, g_1, g_2\\}$ constraints \"a\", \"b\" and \"c\". And so:\n",
    "\n",
    "$Q(\\{p_i\\};\\lambda_0,\\lambda_1, \\lambda_2) = - \\sum_i^{100}p_ilog(p_i) + \\lambda_0\\left(1-\\sum_i^{100}p_i\\right) + \\lambda_1\\left(\\mu_2 - \\sum_i^{100}ip_i\\right) + \\lambda_2\\left(\\sum_i(i-\\mu_2)^2p_i - \\sigma_2^2\\right)$\n",
    "\n",
    "Now we need to find $p_i$ for which $Q(\\{p_i\\};\\lambda_0,\\lambda_1)$ has a minimum\n",
    "\n",
    "$\\frac{\\partial Q}{\\partial p_i} = -\\left(log(p_i) + 1\\right) - \\lambda_0 - i\\lambda_1 + \\lambda_2(i-\\mu_2)^2$\n",
    "\n",
    "$log(p_i) = - 1 - \\lambda_0 - i\\lambda_1 + \\lambda_2(i-\\mu_2)^2$\n",
    "\n",
    "$p_i = e^{-(1+\\lambda_0)}e^{-i\\lambda_1}e^{\\lambda_2(i-\\mu_2)^2} \\rightarrow p_i = Ne^{\\lambda_2(i-\\mu_2)^2-\\lambda_1i}$"
   ]
  },
  {
   "cell_type": "markdown",
   "metadata": {},
   "source": [
    "### Task b)\n",
    "* Determine the still unknown Lagrange multipliers; you can do it numerically.\n",
    "* Print the values of the Lagrange multipliers for each case (you don't need to print $\\lambda_0$, but you should obviously make sure that the probability distribution is properly normalized.\n",
    "* Assign the probabilities and make a bar plot for each case. Store the probabilities in the arrays `probs_1` and `probs_2`, each of shape (100,).\n",
    "* Use only modules that are part of the `tif285-env` environment as autograding might otherwise fail."
   ]
  },
  {
   "cell_type": "code",
   "execution_count": null,
   "metadata": {
    "code_folding": [
     0
    ],
    "deletable": false,
    "nbgrader": {
     "cell_type": "code",
     "checksum": "68c1c90483f740711fbbdbc8d4378ecf",
     "grade": false,
     "grade_id": "cell-3cc7232d47efdf8f",
     "locked": false,
     "schema_version": 3,
     "solution": true,
     "task": false
    }
   },
   "outputs": [],
   "source": [
    "# importing modules\n",
    "\n",
    "%matplotlib inline\n",
    "\n",
    "import numpy as np\n",
    "import matplotlib.pyplot as plt\n",
    "#...\n",
    "\n",
    "# YOUR CODE HERE"
   ]
  },
  {
   "cell_type": "code",
   "execution_count": null,
   "metadata": {
    "code_folding": [
     0,
     2,
     15,
     30
    ],
    "deletable": false,
    "nbgrader": {
     "cell_type": "code",
     "checksum": "17e4667f396502edeb955420caf2e94c",
     "grade": false,
     "grade_id": "cell-dd028344f374acca",
     "locked": false,
     "schema_version": 3,
     "solution": true,
     "task": false
    }
   },
   "outputs": [],
   "source": [
    "# We suggest to define helper functions (but you are free to use your own solution)\n",
    "#\n",
    "def pdf_1(lam, M=100):\n",
    "    '''\n",
    "    Returns an array of (normalized) probabilities for a given Lagrange multiplier. Case a.\n",
    "    \n",
    "    Args:\n",
    "        lam: Lagrange multiplier (float)\n",
    "        M: number of discrete probabilities (int)\n",
    "        \n",
    "    Returns:\n",
    "        pdf: Array of shape (M,) of probabilities p_i = f_1(i,lam) / norm\n",
    "    '''\n",
    "    # YOUR CODE HERE\n",
    "\n",
    "def pdf_2(lam1, lam2, mu, M=100):\n",
    "    '''\n",
    "    Returns an array of (normalized) probabilities for a given Lagrange multiplier and mean. Case b.\n",
    "    \n",
    "    Args:\n",
    "        lam1: Lagrange multiplier for the mean constraint (float)\n",
    "        lam2: Lagrange multiplier for the variance constraint (float)\n",
    "        mu: mean value (float)\n",
    "        M: number of discrete probabilities (int)\n",
    "        \n",
    "    Returns:\n",
    "        pdf: Array of shape (M,) of probabilities p_i = f_2(i,lam,mu) / norm\n",
    "    '''\n",
    "    # YOUR CODE HERE\n",
    "\n",
    "def moments(pdf):\n",
    "    '''\n",
    "    Returns the first few moments of a discrete pdf.\n",
    "    \n",
    "    Args:\n",
    "        pdf: Array of shape (M,) of probabilities p_i\n",
    "        \n",
    "    Returns:\n",
    "        moments: tuple of floats with the first few moments (norm, mean, variance) \n",
    "    '''\n",
    "    # YOUR CODE HERE\n",
    "    \n",
    "# and to use the principle of maximum entropy to assign the probabilities \n",
    "Msides = 100\n",
    "probs_1 = np.ones(Msides)\n",
    "probs_2 = np.ones(Msides)\n",
    "\n",
    "# Don't forget to also make a bar plot\n",
    "# YOUR CODE HERE"
   ]
  },
  {
   "cell_type": "code",
   "execution_count": 450,
   "metadata": {
    "code_folding": [
     0,
     1
    ]
   },
   "outputs": [
    {
     "name": "stdout",
     "output_type": "stream",
     "text": [
      "N: 0.009999999999999414\n",
      "lambda_1: -4.855771608280826e-15 \n",
      "\n",
      "norm: 1.0000000000001867\n",
      "mean: 50.500000000013465\n"
     ]
    }
   ],
   "source": [
    "# my own solution - case 1\n",
    "def case1_pi(x):\n",
    "    norm = 0\n",
    "    mean = 0\n",
    "    for i in range(1,101):\n",
    "        # max entropy defined in task a\n",
    "        mean += x[0]*i*np.e**(-i*x[1])\n",
    "        # max entropy defined in task a\n",
    "        norm += x[0]*np.e**(-i*x[1])\n",
    "    return (mean -50.5, norm-1)\n",
    "\n",
    "# (N, lambda_1)\n",
    "lambda_1 = fsolve(case1_pi, [-0.10,0.09])\n",
    "print('N:',lambda_1[0])\n",
    "print('lambda_1:',lambda_1[1],'\\n')\n",
    "\n",
    "# check contraints of normality and mean\n",
    "norm = 0\n",
    "mean = 0\n",
    "for i in range(1,101):\n",
    "    norm += lambda_1[0]*np.e**(-i*lambda_1[1])\n",
    "    mean += lambda_1[0]*i*np.e**(-i*lambda_1[1])\n",
    "    \n",
    "print('norm:',norm)\n",
    "print('mean:',mean)"
   ]
  },
  {
   "cell_type": "code",
   "execution_count": 448,
   "metadata": {
    "code_folding": [
     0,
     1
    ]
   },
   "outputs": [
    {
     "name": "stdout",
     "output_type": "stream",
     "text": [
      "N: 0.01933128097842311\n",
      "lambda_1: 0.009564832573999817\n",
      "lambda_2: -0.00030180735179893077 \n",
      "\n",
      "norm: 1.000000000002125\n",
      "mean: 40.000000000117616\n",
      "variance: 625.0000000002667\n"
     ]
    }
   ],
   "source": [
    "# my own solution - case 2\n",
    "def case1_pi(x):\n",
    "    norm = 0\n",
    "    mean = 0\n",
    "    variance = 0\n",
    "    for i in range(1,101):\n",
    "        # max entropy defined in task a\n",
    "        mean += x[0]*i*np.e**(-i*x[1]+x[2]*(i-40)**2)\n",
    "        \n",
    "        # max entropy defined in task a\n",
    "        norm += x[0]*np.e**(-i*x[1]+x[2]*(i-40)**2)\n",
    "        \n",
    "        # max entropy defined in task a\n",
    "        variance += ((i-40)**2)*x[0]*np.e**(-i*x[1]+x[2]*(i-40)**2)\n",
    "        \n",
    "    return (mean -40, norm-1, variance-625)\n",
    "\n",
    "# (N, lambda_1, lambda_2)\n",
    "start=[-0.25330013, -0.44920736, -0.90281833]\n",
    "lambda_2 = fsolve(case1_pi, start)\n",
    "print('N:',lambda_2[0])\n",
    "print('lambda_1:',lambda_2[1])\n",
    "print('lambda_2:',lambda_2[2],'\\n')\n",
    "\n",
    "# check contraints of normality and mean\n",
    "norm = 0\n",
    "mean = 0\n",
    "variance = 0\n",
    "for i in range(1,101):\n",
    "    norm += lambda_2[0]*np.e**(-i*lambda_2[1]+lambda_2[2]*(i-40)**2)\n",
    "    mean += lambda_2[0]*i*np.e**(-i*lambda_2[1]+lambda_2[2]*(i-40)**2)\n",
    "    variance += ((i-40)**2)*lambda_2[0]*np.e**(-i*lambda_2[1]+lambda_2[2]*(i-40)**2)\n",
    "    \n",
    "print('norm:',norm)\n",
    "print('mean:',mean)\n",
    "print('variance:',variance)"
   ]
  },
  {
   "cell_type": "code",
   "execution_count": 482,
   "metadata": {
    "code_folding": [
     0
    ]
   },
   "outputs": [
    {
     "data": {
      "image/png": "[encoded data removed]",
      "text/plain": [
       "<Figure size 1440x360 with 1 Axes>"
      ]
     },
     "metadata": {
      "needs_background": "light"
     },
     "output_type": "display_data"
    }
   ],
   "source": [
    "# plots - case 1\n",
    "def pi_1(i, N, lambda_1):\n",
    "    return N*np.e**(-i*lambda_1)\n",
    "\n",
    "probs_1 = np.array([pi_1(i,lambda_1[0],lambda_1[1]) for i in range(1,101)])\n",
    "\n",
    "plt.figure(figsize=(20,5))\n",
    "sns.barplot(x=[i for i in range(1,101)],\n",
    "            y=probs_1)\n",
    "plt.xticks(rotation=90)\n",
    "plt.show()"
   ]
  },
  {
   "cell_type": "code",
   "execution_count": 481,
   "metadata": {
    "code_folding": [
     0
    ]
   },
   "outputs": [
    {
     "data": {
      "image/png": "[encoded data removed]",
      "text/plain": [
       "<Figure size 1440x360 with 1 Axes>"
      ]
     },
     "metadata": {
      "needs_background": "light"
     },
     "output_type": "display_data"
    }
   ],
   "source": [
    "# plots - case 2\n",
    "def pi_2(i, N, lambda_1, lambda_2):\n",
    "    return N*np.e**(-i*lambda_1+lambda_2*(i-40)**2)\n",
    "probs_2=np.array([pi_2(i,lambda_2[0],lambda_2[1],lambda_2[2]) for i in range(1,101)])\n",
    "plt.figure(figsize=(20,5))\n",
    "sns.barplot(x=[i for i in range(1,101)],\n",
    "            y=probs_2)\n",
    "plt.xticks(rotation=90)\n",
    "plt.show()"
   ]
  },
  {
   "cell_type": "code",
   "execution_count": 483,
   "metadata": {
    "deletable": false,
    "editable": false,
    "nbgrader": {
     "cell_type": "code",
     "checksum": "521bc3a036e33b310959409ff72454af",
     "grade": true,
     "grade_id": "cell-77f87e6d43c75b7d",
     "locked": true,
     "points": 1,
     "schema_version": 3,
     "solution": false,
     "task": false
    }
   },
   "outputs": [],
   "source": [
    "for iprobs, probs in enumerate([probs_1,probs_2]):\n",
    "    assert probs.shape == (100,), f'The array `probs` for case {iprobs} should be of shape (100,). probs.shape = {probs.shape}'\n",
    "    assert np.abs(probs.sum()-1.0)<1e-6, f'The norm of array `probs` for case {iprobs} is {probs.sum}'\n"
   ]
  },
  {
   "cell_type": "markdown",
   "metadata": {},
   "source": [
    "## Problem 2: Hypothesis testing using p-values\n",
    "### (2 points)"
   ]
  },
  {
   "cell_type": "markdown",
   "metadata": {},
   "source": [
    "Assume that you are analyzing a time series of data from an experiment that is searching for an annual modulation on top of a constant background (e.g. a signal that would be proportional to the flux of dark matter particles which is expected to have an annual modulation). \n",
    "\n",
    "The time series of data consists of $N = 20$ measurements that extends over a period of 5 years. The measurements are presented in some re-scaled, dimensionless units. From calibration measurements it is known that errors are statistically distributed with a standard deviation $\\sigma = 5.0$."
   ]
  },
  {
   "cell_type": "markdown",
   "metadata": {},
   "source": [
    "### Tasks\n",
    "* Read the data which has been generated using three different (unknown) scenarios: with different amplitudes of the annual modulation signal\n",
    "* Consider the scenario that the signal is *constant*, with an unknown amplitude, as a null hypothesis.\n",
    "* Compute, for each case, the chi-squared statistics: $\\chi^2 = \\sum_{i=1}^N \\frac{( y_i - \\bar{y} )^2}{\\sigma^2}$, where the average value $\\bar{y}$ is estimated from the sample $\\{ y_i \\}_{i=1}^{N}$.\n",
    "* Make a plot of the expected $\\chi^2$ distribution for the relevant number of degrees of freedom and compare with the statistic obtained for the actual data in each case.\n",
    "* What is the *P-value* or *significance* of the data (for each case) from a frequentist point of view?\n",
    "* Assume that we have decided beforehand the significance level 5% for this test. Would you *reject the null hypothesis with 95% confidence* for each particular case?\n",
    "\n",
    "#### Notes:\n",
    "* Save the p-value in the list variable `pvalue` (see cell below) as numbers between 0 and 1 (i.e., not percent)\n",
    "* Should the null hypothesis be rejected for any of the three different cases? Save your answer in the list boolean variable `reject_null` (see below).\n"
   ]
  },
  {
   "cell_type": "code",
   "execution_count": 8,
   "metadata": {},
   "outputs": [
    {
     "name": "stdout",
     "output_type": "stream",
     "text": [
      "Read data for case  0\n",
      "0.00013359832752243042\n",
      "Read data for case  1\n",
      "1.8864708605791046e-05\n",
      "Read data for case  2\n",
      "6.640837053758113e-06\n"
     ]
    }
   ],
   "source": [
    "from scipy.stats import chisquare\n",
    "\n",
    "for icase, amp_annual in enumerate([5., 5., 5.]):\n",
    "    print(f'Read data for case {icase:>2}')\n",
    "    t,y = np.loadtxt(f'{DATA_DIR}/problem2_data{icase}.dat',unpack=True)\n",
    "    chi, p_value = chisquare(y, ddof=58)\n",
    "    print(p_value)"
   ]
  },
  {
   "cell_type": "code",
   "execution_count": 9,
   "metadata": {},
   "outputs": [],
   "source": [
    "t,y = np.loadtxt(f'{DATA_DIR}/problem2_data{2}.dat',unpack=True)"
   ]
  },
  {
   "cell_type": "code",
   "execution_count": 11,
   "metadata": {},
   "outputs": [
    {
     "data": {
      "text/plain": [
       "[<matplotlib.lines.Line2D at 0x27ff1ff0fd0>]"
      ]
     },
     "execution_count": 11,
     "metadata": {},
     "output_type": "execute_result"
    },
    {
     "data": {
      "image/png": "[encoded data removed]",
      "text/plain": [
       "<Figure size 432x288 with 1 Axes>"
      ]
     },
     "metadata": {
      "needs_background": "light"
     },
     "output_type": "display_data"
    }
   ],
   "source": [
    "plt.plot(t, y, \"-o\")"
   ]
  },
  {
   "cell_type": "code",
   "execution_count": 522,
   "metadata": {},
   "outputs": [
    {
     "data": {
      "text/plain": [
       "Power_divergenceResult(statistic=inf, pvalue=0.0)"
      ]
     },
     "execution_count": 522,
     "metadata": {},
     "output_type": "execute_result"
    }
   ],
   "source": [
    "from scipy.stats import chisquare\n",
    "chisquare(y, ddof=58)"
   ]
  },
  {
   "cell_type": "code",
   "execution_count": 495,
   "metadata": {},
   "outputs": [
    {
     "data": {
      "text/plain": [
       "<AxesSubplot:ylabel='Count'>"
      ]
     },
     "execution_count": 495,
     "metadata": {},
     "output_type": "execute_result"
    },
    {
     "data": {
      "image/png": "[encoded data removed]",
      "text/plain": [
       "<Figure size 432x288 with 1 Axes>"
      ]
     },
     "metadata": {
      "needs_background": "light"
     },
     "output_type": "display_data"
    }
   ],
   "source": [
    "sns.histplot(x=t)"
   ]
  },
  {
   "cell_type": "code",
   "execution_count": null,
   "metadata": {
    "code_folding": [
     0
    ],
    "deletable": false,
    "nbgrader": {
     "cell_type": "code",
     "checksum": "7f016cb9d7a9a8e177a0f8f03634b4b2",
     "grade": false,
     "grade_id": "cell-58dbfded94777e8d",
     "locked": false,
     "schema_version": 3,
     "solution": true,
     "task": false
    }
   },
   "outputs": [],
   "source": [
    "# importing modules\n",
    "\n",
    "%matplotlib inline\n",
    "\n",
    "import numpy as np\n",
    "import matplotlib.pyplot as plt\n",
    "#...\n",
    "\n",
    "# YOUR CODE HERE"
   ]
  },
  {
   "cell_type": "code",
   "execution_count": null,
   "metadata": {
    "code_folding": [],
    "deletable": false,
    "nbgrader": {
     "cell_type": "code",
     "checksum": "60c53b1eb36499307b88cf6d677d7190",
     "grade": false,
     "grade_id": "cell-56a4539f08238360",
     "locked": false,
     "schema_version": 3,
     "solution": true,
     "task": false
    }
   },
   "outputs": [],
   "source": [
    "# Read the data and perform the tasks listed above\n",
    "#\n",
    "# Save the p-value in the list variable `pvalue`\n",
    "pvalue = [0., 0., 0.]\n",
    "# Should the null hypothesis be rejected? Save your answer in the list boolean variable `reject_null`\n",
    "reject_null = [False, False, False]\n",
    "\n",
    "fig_signal,axs_signal = plt.subplots(1, 3, figsize=(16, 4))\n",
    "fig_chi2,axs_chi2 = plt.subplots(1, 3, figsize=(16, 4))\n",
    "\n",
    "for icase, amp_annual in enumerate([5., 5., 5.]):\n",
    "    print(f'Read data for case {icase:>2}')\n",
    "    t,y = np.loadtxt(f'{DATA_DIR}/problem2_data{icase}.dat',unpack=True)\n",
    "    \n",
    "    # YOUR CODE HERE"
   ]
  },
  {
   "cell_type": "code",
   "execution_count": null,
   "metadata": {},
   "outputs": [],
   "source": [
    "rv = chi2(df)\n",
    "ax.plot(x, rv.pdf(x), 'k-', lw=2, label='frozen pdf')"
   ]
  },
  {
   "cell_type": "code",
   "execution_count": null,
   "metadata": {
    "deletable": false,
    "editable": false,
    "nbgrader": {
     "cell_type": "code",
     "checksum": "33a17f93ab663c616efc9edb9309b199",
     "grade": true,
     "grade_id": "cell-bc458a82cc5b735b",
     "locked": true,
     "points": 2,
     "schema_version": 3,
     "solution": false,
     "task": false
    }
   },
   "outputs": [],
   "source": [
    "assert len(reject_null)==3\n",
    "assert len(pvalue)==3\n",
    "assert not pvalue==[0.,0.,0.], 'update pvalue list'\n",
    "assert not reject_null==[False,False,False], 'at least one null hypothesis should be rejected. '+f'{reject_null}'"
   ]
  },
  {
   "cell_type": "markdown",
   "metadata": {},
   "source": [
    "## Problem 3: Gaussian Process regression\n",
    "### (3 points)"
   ]
  },
  {
   "cell_type": "markdown",
   "metadata": {
    "deletable": false,
    "editable": false,
    "nbgrader": {
     "cell_type": "markdown",
     "checksum": "0891cf56d3e845c979247b747d34b8d4",
     "grade": false,
     "grade_id": "cell-e7e20373ee14fef6",
     "locked": true,
     "schema_version": 3,
     "solution": false,
     "task": false
    }
   },
   "source": [
    "In the following we will perform Gaussian Process regression of the [distance modulus](https://en.wikipedia.org/wiki/Distance_modulus) ($\\mu$) vs. [redshift](https://en.wikipedia.org/wiki/Redshift) ($z$) relation for a simulated set of 100 supernovas.\n",
    "\n",
    "The data, \n",
    "$(z, \\mu, \\Delta \\mu)$,\n",
    "is generated from an underlying true distribution $p(z) \\propto (z/z_0)^2 \\exp[(z/z_0)^{1.5}]$ \n",
    "with $z_0 = 0.3$. An array with $(z_\\mathrm{true}, \\mu_\\mathrm{true})$ is also available for comparison."
   ]
  },
  {
   "cell_type": "markdown",
   "metadata": {
    "deletable": false,
    "editable": false,
    "nbgrader": {
     "cell_type": "markdown",
     "checksum": "d5083930c635324442c0526a63f9df8a",
     "grade": false,
     "grade_id": "cell-e5f4a90ce632f72f",
     "locked": true,
     "schema_version": 3,
     "solution": false,
     "task": false
    }
   },
   "source": [
    "Credit: The data and a part of the problem formulation is obtained from the [AstroML](\"http://www.astroml.org/\") python module distributed under the 3-clause BSD license. For more information, see http://astroML.github.com."
   ]
  },
  {
   "cell_type": "markdown",
   "metadata": {},
   "source": [
    "The `GPy` library is needed to solve this task. You might also need to have `numpy` version >= 1.20. Can be checked by running"
   ]
  },
  {
   "cell_type": "code",
   "execution_count": null,
   "metadata": {},
   "outputs": [],
   "source": [
    "import numpy as np\n",
    "print(np.__version__)"
   ]
  },
  {
   "cell_type": "code",
   "execution_count": 528,
   "metadata": {
    "deletable": false,
    "nbgrader": {
     "cell_type": "code",
     "checksum": "3f89dcb6649c223f040cc83fd7f5045b",
     "grade": false,
     "grade_id": "cell-221f06aae6b93cc7",
     "locked": false,
     "schema_version": 3,
     "solution": true,
     "task": false
    }
   },
   "outputs": [],
   "source": [
    "# The GPy library is needed to solve this task\n",
    "#\n",
    "import GPy\n",
    "import numpy as np\n",
    "from matplotlib import pyplot as plt\n",
    "%matplotlib inline\n",
    "\n",
    "# YOUR CODE HERE"
   ]
  },
  {
   "cell_type": "markdown",
   "metadata": {},
   "source": [
    "### Initialization task\n",
    "Load the experimental data and the true function data and plot $\\mu = \\mu(z)$. "
   ]
  },
  {
   "cell_type": "code",
   "execution_count": null,
   "metadata": {
    "deletable": false,
    "editable": false,
    "nbgrader": {
     "cell_type": "code",
     "checksum": "23f4f787d88dd093ea4b9f32af518456",
     "grade": false,
     "grade_id": "cell-e6fab4e403f1d668",
     "locked": true,
     "schema_version": 3,
     "solution": false,
     "task": false
    }
   },
   "outputs": [],
   "source": [
    "# Load experimental data sample\n",
    "z_sample, mu_sample, dmu = np.loadtxt(f'{DATA_DIR}/cosmology_sample.dat',unpack=True)\n",
    "\n",
    "# data must be two-dimensional for GPy\n",
    "x = z_sample.reshape((-1,1))\n",
    "y = mu_sample.reshape((-1,1))\n",
    "print('The experimental data is of shape:', y.shape)"
   ]
  },
  {
   "cell_type": "code",
   "execution_count": null,
   "metadata": {
    "deletable": false,
    "editable": false,
    "nbgrader": {
     "cell_type": "code",
     "checksum": "4cf9d201612e2116d9f53ec76a189206",
     "grade": false,
     "grade_id": "cell-0bf9b15dae92b234",
     "locked": true,
     "schema_version": 3,
     "solution": false,
     "task": false
    }
   },
   "outputs": [],
   "source": [
    "# Load true function\n",
    "z, mu_true = np.loadtxt(f'{DATA_DIR}/cosmology_true.dat',unpack=True)\n",
    "\n",
    "print('The true function data is of shape:', mu_true.shape)"
   ]
  },
  {
   "cell_type": "code",
   "execution_count": null,
   "metadata": {
    "deletable": false,
    "nbgrader": {
     "cell_type": "code",
     "checksum": "38e531b7450e725bb5feda7c7c4ba810",
     "grade": false,
     "grade_id": "cell-14d88be9c518c355",
     "locked": false,
     "schema_version": 3,
     "solution": true,
     "task": false
    }
   },
   "outputs": [],
   "source": [
    "# Plot the data and the true function\n",
    "\n",
    "# YOUR CODE HERE"
   ]
  },
  {
   "cell_type": "markdown",
   "metadata": {
    "deletable": false,
    "editable": false,
    "nbgrader": {
     "cell_type": "markdown",
     "checksum": "11265ebb5efad71461823950f40a685f",
     "grade": false,
     "grade_id": "cell-65cfc297669324b5",
     "locked": true,
     "points": 1,
     "schema_version": 3,
     "solution": false,
     "task": true
    }
   },
   "source": [
    "### Task 1 \n",
    "Use the GPy python module to create a GP model with an RBF kernel. The GP model will contain a Gaussian noise term by default. \n",
    "* Use the default parameters of the RBF kernel as the initial guess. Print the hyperparameters of the kernel before doing optimization.\n",
    "* Use GPy to optimize the model hyperparameters to the available data.\n",
    "* Print the optimized GP model hyperparameters. Check in particular the Gaussian noise variance. Does it make sense given the uncertainites that were present in the experimental data? You can create a markdown cell below your solution where you add your commentary.\n",
    "* What is the log likelihood of the data with this GP model? (*Hint*: Use the GPy `model.log_likelihood()` function , where `model` is a GPy regression model)\n",
    "* Plot the GP regression model together with the data (the GPy plot command will by default show the mean prediction and the 95% credibility region)."
   ]
  },
  {
   "cell_type": "code",
   "execution_count": null,
   "metadata": {
    "deletable": false,
    "nbgrader": {
     "cell_type": "code",
     "checksum": "c288a1b55e5a818607bf3c71e2d8622e",
     "grade": false,
     "grade_id": "cell-a6d1de33884b46ce",
     "locked": false,
     "schema_version": 3,
     "solution": true,
     "task": false
    }
   },
   "outputs": [],
   "source": [
    "# YOUR CODE HERE"
   ]
  },
  {
   "cell_type": "markdown",
   "metadata": {
    "deletable": false,
    "editable": false,
    "nbgrader": {
     "cell_type": "markdown",
     "checksum": "f861d21cff7420e7708e8f103621ca3b",
     "grade": false,
     "grade_id": "cell-403f04018b427d3c",
     "locked": true,
     "points": 1,
     "schema_version": 3,
     "solution": false,
     "task": true
    }
   },
   "source": [
    "### Task 2\n",
    "Repeat the GP model optimization, but initialize the hyperparameters with \n",
    "* RBF lengthscale = 1.2\n",
    "* RBF variance = 1000\n",
    "\n",
    "From this initial guess, use GPy to optimize the model hyperparameters to the available data.\n",
    "* Print the optimized GP model hyperparameters. \n",
    "* What is the log likelihood of the data with this GP model? \n",
    "* Plot the GP regression model together with the data.\n",
    "* What are the main differences of the fit in Task 2 and the one in Task 1? In particular you should comment on differences in model hyperparameters and any visable consequences in the final GP model. You can create a markdown cell below your solution where you add your commentary."
   ]
  },
  {
   "cell_type": "code",
   "execution_count": null,
   "metadata": {
    "deletable": false,
    "nbgrader": {
     "cell_type": "code",
     "checksum": "32871b9ecc46180adb10a488ec8e3bdb",
     "grade": false,
     "grade_id": "cell-b8b8d269d33c744b",
     "locked": false,
     "schema_version": 3,
     "solution": true,
     "task": false
    }
   },
   "outputs": [],
   "source": [
    "# YOUR CODE HERE"
   ]
  },
  {
   "cell_type": "markdown",
   "metadata": {
    "deletable": false,
    "editable": false,
    "nbgrader": {
     "cell_type": "markdown",
     "checksum": "dc69010e401a9e3e9b326a33a8eaf0b9",
     "grade": false,
     "grade_id": "cell-218bdab813b0c3b5",
     "locked": true,
     "points": 1,
     "schema_version": 3,
     "solution": false,
     "task": true
    }
   },
   "source": [
    "### Task 3\n",
    "* Create an array `Xp = numpy.linspace(0.0,2.0,50)[:,None]` to be used for predictions.\n",
    "* Extract the mean vector and the covariance matrix from your GPy model object, `model`, using the command `mu, C = model.predict(Xp,full_cov=True)`\n",
    "* Draw 20 samples from the multivariate Gaussian defined by `mu, C`.\n",
    "* Extract the mean vector and the standard deviation vector of the 20 samples.\n",
    "* Plot the sampled curves in a figure together with the mean and the $1\\sigma$ and $2\\sigma$ bands. (*Hint*: Use `alpha=0.3` when plotting the sampled curves in order to make them somewhat transparent).\n",
    "* How does the result from this finite number of samples compare to the model plot that was produced in Task 2? You can create a markdown cell below your solution where you add your commentary."
   ]
  },
  {
   "cell_type": "code",
   "execution_count": null,
   "metadata": {
    "deletable": false,
    "nbgrader": {
     "cell_type": "code",
     "checksum": "c5cd277fada0a8e554d7c0a86d788b4b",
     "grade": false,
     "grade_id": "cell-9aeb680747dfa6e4",
     "locked": false,
     "schema_version": 3,
     "solution": true,
     "task": false
    }
   },
   "outputs": [],
   "source": [
    "# YOUR CODE HERE"
   ]
  },
  {
   "cell_type": "markdown",
   "metadata": {},
   "source": [
    "## Problem 4: Single neuron classifier\n",
    "### (3 points)"
   ]
  },
  {
   "cell_type": "code",
   "execution_count": null,
   "metadata": {},
   "outputs": [],
   "source": [
    "import numpy as np\n",
    "from matplotlib import pyplot as plt\n",
    "%matplotlib inline\n",
    "\n",
    "import seaborn as sns\n",
    "sns.set('talk')"
   ]
  },
  {
   "cell_type": "markdown",
   "metadata": {
    "deletable": false,
    "editable": false,
    "nbgrader": {
     "cell_type": "markdown",
     "checksum": "c4772c2730a7b66354d29897cbe22515",
     "grade": false,
     "grade_id": "cell-cbe1d36433b69afe",
     "locked": true,
     "schema_version": 3,
     "solution": false,
     "task": false
    }
   },
   "source": [
    "### Background\n",
    "\n",
    "The Ising model is arguably the most famous model in (condensed matter) physics. It is described by the simple Hamiltonian\n",
    "\n",
    "$$\n",
    "H=−J \\sum_{\\langle i,j \\rangle} s_i s_j.\n",
    "$$\n",
    "\n",
    "Here, the $s_i=\\{−1,1\\}$ are classical, binary magnetic moments (spins) sitting on a two-dimensional square lattice and the $\\langle i,j \\rangle$ indicates that only interactions betweens neighboring spins are taken into account. For simplicity, we will set $J=1$."
   ]
  },
  {
   "cell_type": "markdown",
   "metadata": {
    "deletable": false,
    "editable": false,
    "nbgrader": {
     "cell_type": "markdown",
     "checksum": "bf67220a4da7999de069dfe35644b395",
     "grade": false,
     "grade_id": "cell-e77d4ed5de44da36",
     "locked": true,
     "schema_version": 3,
     "solution": false,
     "task": false
    }
   },
   "source": [
    "Most importantly, the Ising model shows a phase transition between a paramagnetic and a ferromagnetic phase as a function of temperature. The critical temperature $T_c$ at which this change of magnetic character occurs has been calculated exactly by Lars Onsager. He found\n",
    "\n",
    "$$\n",
    "T_c = \\frac{2}{\\log \\left( 1 + \\sqrt{2} \\right) }\n",
    "$$"
   ]
  },
  {
   "cell_type": "code",
   "execution_count": null,
   "metadata": {
    "deletable": false,
    "editable": false,
    "nbgrader": {
     "cell_type": "code",
     "checksum": "59d30d6730422fc95e51f7fb505e8764",
     "grade": false,
     "grade_id": "cell-95cb23f4752f4be6",
     "locked": true,
     "schema_version": 3,
     "solution": false,
     "task": false
    }
   },
   "outputs": [],
   "source": [
    "Tc = 2 / np.log(1+np.sqrt(2))\n",
    "print(f\"Critical temperature: Tc = {Tc:.4f}\")"
   ]
  },
  {
   "cell_type": "markdown",
   "metadata": {
    "deletable": false,
    "editable": false,
    "nbgrader": {
     "cell_type": "markdown",
     "checksum": "d976a78d5d61948e0522be3c453556ae",
     "grade": false,
     "grade_id": "cell-f1f10309242ed074",
     "locked": true,
     "schema_version": 3,
     "solution": false,
     "task": false
    }
   },
   "source": [
    "In this problem we aim to reproduce this result (roughly) using a simple binary classifier (single neuron) that you implement yourself.\n",
    "\n",
    "The classification problem can be made more sophisticated by introducing neural networks with several layers. Results from such an analysis made it all the way into a Nature Physics publication just a few years ago: [Nature Physics (2017) 13, 431–434](https://www.nature.com/articles/nphys4035)"
   ]
  },
  {
   "cell_type": "markdown",
   "metadata": {
    "deletable": false,
    "editable": false,
    "nbgrader": {
     "cell_type": "markdown",
     "checksum": "ec26e46009ac004a50c5c16527decad3",
     "grade": false,
     "grade_id": "cell-81ce45d2a47cd1a5",
     "locked": true,
     "schema_version": 3,
     "solution": false,
     "task": false
    }
   },
   "source": [
    "We will start by quickly simulating the Ising model using the Monte Carlo method to obtain representative sets of spin configurations for a bunch of temperatures. "
   ]
  },
  {
   "cell_type": "markdown",
   "metadata": {
    "deletable": false,
    "editable": false,
    "nbgrader": {
     "cell_type": "markdown",
     "checksum": "4b3041cc0f03a6aec7f826b4d67c9b7b",
     "grade": false,
     "grade_id": "cell-21fdf923ad110152",
     "locked": true,
     "schema_version": 3,
     "solution": false,
     "task": false
    }
   },
   "source": [
    "#### Monte Carlo simulation\n",
    "The Monte Carlo method for the Ising model is very straightforward: take a random configuration of spins to begin with and propose individual spin flips until you run out of steam. To decide whether a spin should be flipped we use the Metropolis criterium\n",
    "$$\n",
    "p=\\min \\left( 1, e^{-\\beta\\Delta E} \\right)\n",
    "$$\n",
    "where $\\Delta E = E′−E$ is the energy difference between the new (spin flipped) and the old configuration according to $H$ above and $\\beta = 1/T$ is the inverse of the temperature $T$. Since $\\Delta E$ only depends on the local environment of the spin to be flipped (nearest neighbors), we can evaluate it locally. "
   ]
  },
  {
   "cell_type": "markdown",
   "metadata": {
    "deletable": false,
    "editable": false,
    "nbgrader": {
     "cell_type": "markdown",
     "checksum": "44eca2f9c2ddec6d09baa6bf9275c159",
     "grade": false,
     "grade_id": "cell-f4762b4b0ada315f",
     "locked": true,
     "schema_version": 3,
     "solution": false,
     "task": false
    }
   },
   "source": [
    "#### Generate spin configurations and study the phase transition\n",
    "\n",
    "In the python file attached with this notebook we have the definition of a `Lattice` class which can be used to generate a 2D lattice for `N` spins at a temperature `T`. Here, we simply import the `Lattice` class and use the `step` method to generate a lattice after a few hundred iterations to simulate a thermalization of the lattice. \n",
    "\n",
    "At every iteration, we select $N^2$ random points to try a flip attempt. A flip attempt consists of checking the change in energy due to a flip. If it is negative or less than $e^{-E/(k_b T)}$, then perform the flip. After a few steps the lattice with thermalize.\n",
    "\n",
    "\n",
    "\n",
    "#### *You need the `lattice.py` file in the same directory to get this to work which contains the definition of `Lattice`*\n"
   ]
  },
  {
   "cell_type": "code",
   "execution_count": null,
   "metadata": {
    "deletable": false,
    "editable": false,
    "nbgrader": {
     "cell_type": "code",
     "checksum": "079a464902e8d035b061fb51fafee5d0",
     "grade": false,
     "grade_id": "cell-166f2aa2c4c88f8c",
     "locked": true,
     "schema_version": 3,
     "solution": false,
     "task": false
    }
   },
   "outputs": [],
   "source": [
    "from lattice import Lattice"
   ]
  },
  {
   "cell_type": "code",
   "execution_count": null,
   "metadata": {
    "deletable": false,
    "editable": false,
    "nbgrader": {
     "cell_type": "code",
     "checksum": "8c0cb3e8eb6058acc4d947059664aee4",
     "grade": false,
     "grade_id": "cell-5fb8f66b389542d0",
     "locked": true,
     "schema_version": 3,
     "solution": false,
     "task": false
    }
   },
   "outputs": [],
   "source": [
    "# Initialize a lattice\n",
    "lat = Lattice(N=10, T=4.5)\n",
    "\n",
    "# Make 30 iterations (N**2 spin flip attempts)\n",
    "for i in range(30):\n",
    "    lat.step()\n",
    "\n",
    "print(lat.lattice) # (or even `print lat` to use the convenient repr)"
   ]
  },
  {
   "cell_type": "markdown",
   "metadata": {},
   "source": [
    "#### Illustrate some spin configurations, and plot macroscopic quantities as a function of temperature"
   ]
  },
  {
   "cell_type": "code",
   "execution_count": null,
   "metadata": {
    "deletable": false,
    "editable": false,
    "nbgrader": {
     "cell_type": "code",
     "checksum": "8d18b74bceeb06f5aa886e89bc408770",
     "grade": false,
     "grade_id": "cell-527860ba587f6412",
     "locked": true,
     "schema_version": 3,
     "solution": false,
     "task": false
    }
   },
   "outputs": [],
   "source": [
    "# 10 x 10 lattice\n",
    "# six temperatures, 500 thermalization iterations\n",
    "# Plot the spin configurations for varying temperatures.\n",
    "# Display the magnetization too\n",
    "\n",
    "nrows, ncols = 2, 3\n",
    "fig, axs = plt.subplots(nrows, ncols)\n",
    "fig.subplots_adjust(wspace=0.6)\n",
    "\n",
    "for (ip, T) in enumerate([5.0, 4.0, 3.0, 2.3, 2.0, 1.0]):\n",
    "    lat = Lattice(N=10,T=T)\n",
    "    for k in range(500):\n",
    "        lat.step()\n",
    "\n",
    "    idx = ip // ncols, ip % ncols\n",
    "\n",
    "    axs[idx].matshow(lat.lattice,cmap=plt.cm.gray_r)\n",
    "    axs[idx].set_title(f\"T = {T:.1f}, $m$={lat.get_avg_magnetization():.1f}\")\n",
    "\n",
    "    axs[idx].get_xaxis().set_visible(False)\n",
    "    axs[idx].get_yaxis().set_visible(False)"
   ]
  },
  {
   "cell_type": "code",
   "execution_count": null,
   "metadata": {
    "deletable": false,
    "editable": false,
    "nbgrader": {
     "cell_type": "code",
     "checksum": "25f3b2e71f456d56954e86c074e7b56a",
     "grade": false,
     "grade_id": "cell-99ba248c6d6d446d",
     "locked": true,
     "schema_version": 3,
     "solution": false,
     "task": false
    }
   },
   "outputs": [],
   "source": [
    "# 10 x 10 lattice\n",
    "# 60 temperatures, 500 thermalization iterations\n",
    "\n",
    "# For a temperature range, thermalize a lattice, then\n",
    "# take a few hundred steps, recording energy and magnetization.\n",
    "# Store the means to plot next.\n",
    "# This takes about 60s with one modern core.\n",
    "\n",
    "# Thermalization and measurement steps\n",
    "ntherm = 500\n",
    "nmeasure = 200\n",
    "\n",
    "# points = array with (T, mean(E), abs(mean(M)), var(E))\n",
    "# with the mean and variance evaluated for a list of many temperatures\n",
    "points = []\n",
    "# Storing nmeasure / nsparse data points\n",
    "nsparse = 10\n",
    "# points_full = array with (T, E, abs(M))\n",
    "# for several different configurations per temperature\n",
    "points_full=[]\n",
    "for T in np.arange(4.0,1.0,-0.05):\n",
    "    lat = Lattice(N=10,T=T)\n",
    "    for _ in range(ntherm):\n",
    "        lat.step()\n",
    "    Es = []\n",
    "    Ms = []\n",
    "\n",
    "    for istep in range(nmeasure): \n",
    "        lat.step()\n",
    "        Es.append(lat.get_energy())\n",
    "        Ms.append(lat.get_avg_magnetization())\n",
    "        if (istep%nsparse==0):\n",
    "            points_full.append((T,Es[-1],np.abs(Ms[-1])))           \n",
    "    Es = np.array(Es)\n",
    "    Ms = np.array(Ms)\n",
    "    points.append((T,Es.mean(),np.abs(Ms.mean()),Es.var()))\n",
    "points = np.array(points)\n",
    "points_full = np.array(points_full)"
   ]
  },
  {
   "cell_type": "code",
   "execution_count": null,
   "metadata": {
    "deletable": false,
    "editable": false,
    "nbgrader": {
     "cell_type": "code",
     "checksum": "ea7b2dc399f930cff7a92d1ea78f9503",
     "grade": false,
     "grade_id": "cell-41a6828bb9991b95",
     "locked": true,
     "schema_version": 3,
     "solution": false,
     "task": false
    }
   },
   "outputs": [],
   "source": [
    "# Plot the energy, magnetization, and heat capacity vs temperature\n",
    "\n",
    "fig, axs = plt.subplots(3,1,sharex=True,figsize=(8,8))\n",
    "\n",
    "axs[0].plot(points[:,0],points[:,1], label=\"E\")\n",
    "axs[0].set_ylabel(\"Energy\")\n",
    "axs[0].set_title(\"Energy vs Temperature [L = 10]\")\n",
    "\n",
    "axs[1].plot(points[:,0],points[:,2], label=\"$|m|$\")\n",
    "axs[1].set_ylabel(\"$|m|$\")\n",
    "axs[1].set_title(\"Magnetization vs Temperature [L = 10]\")\n",
    "\n",
    "# heat capacity\n",
    "# C = var(E) / ( k_B T**2)\n",
    "heat_capacity = points[:,3] / (points[:,0]**2)\n",
    "axs[2].plot(points[:,0],heat_capacity, label=\"$C$\")\n",
    "axs[2].set_xlabel(\"T\")\n",
    "axs[2].set_ylabel(\"$C$\")\n",
    "axs[2].set_title(\"Heat capacity vs Temperature [L = 10]\")\n",
    "\n",
    "for ax in axs:\n",
    "    ax.axvline(x=Tc,linestyle='-', color=\"orange\",linewidth=2.0, label=\"$T_c$ ({:.3f})\".format(Tc))\n",
    "    ax.legend(loc=\"best\", numpoints=1)\n",
    "    ax.grid(True)"
   ]
  },
  {
   "cell_type": "markdown",
   "metadata": {},
   "source": [
    "#### Energy vs magnetization\n",
    "Blue data is low temperature ($<T_c$) and red data is high temperature ($>T_c$)."
   ]
  },
  {
   "cell_type": "code",
   "execution_count": null,
   "metadata": {
    "deletable": false,
    "editable": false,
    "nbgrader": {
     "cell_type": "code",
     "checksum": "33be343cd30cb1234579ab8a6fdf14ba",
     "grade": false,
     "grade_id": "cell-7efc3ff8dc3e8648",
     "locked": true,
     "schema_version": 3,
     "solution": false,
     "task": false
    }
   },
   "outputs": [],
   "source": [
    "high_T = points_full[:,0]>Tc\n",
    "low_T = points_full[:,0]<Tc\n",
    "\n",
    "E_M_high = points_full[high_T][:,1:]\n",
    "E_M_low = points_full[low_T][:,1:]\n",
    "\n",
    "fig, ax = plt.subplots(1,1)\n",
    "ax.scatter(E_M_high[:,0],E_M_high[:,1],c='r',alpha=0.5,s=25)\n",
    "ax.scatter(E_M_low[:,0],E_M_low[:,1],c='b',alpha=0.5,s=25)\n",
    "ax.set_xlabel(\"$E$\")\n",
    "ax.set_ylabel(\"$|m|$\");"
   ]
  },
  {
   "cell_type": "markdown",
   "metadata": {},
   "source": [
    "### Task: Single neuron binary classifier"
   ]
  },
  {
   "cell_type": "markdown",
   "metadata": {
    "deletable": false,
    "editable": false,
    "nbgrader": {
     "cell_type": "markdown",
     "checksum": "e16471163e33e2e25b863f5d5be16fcc",
     "grade": false,
     "grade_id": "cell-f39cfb4344d56b76",
     "locked": true,
     "schema_version": 3,
     "solution": false,
     "task": false
    }
   },
   "source": [
    "Create a binary classifier that can take $(E,|m|)$ as input data and predict a binary label (0=below Tc, 1=above Tc).\n",
    "\n",
    "**Hints:**\n",
    "* Build your own binary classifier from a single neuron. Study the lecture notes and the exercise on logistic regression / neural networks.\n",
    "* Normalize the data before training / testing (mean=0, standard deviation=1).\n",
    "* Split into 70 % training data and 30% test data.\n",
    "* Use weight decay alpha=1.0, learning parameter eta=0.01\n",
    "* A rather large number of training iterations will be needed.\n",
    "* Check visually that he final result looks reasonable. Training might lead to the wrong optimum in which case the decision boundary is clearly incorrect.\n",
    "\n",
    "**How well does it perform? Plot the decision boundary.**"
   ]
  },
  {
   "cell_type": "code",
   "execution_count": null,
   "metadata": {
    "deletable": false,
    "nbgrader": {
     "cell_type": "code",
     "checksum": "0a4fc517d70167803dc902b627132d8e",
     "grade": false,
     "grade_id": "cell-62c8fd0546101d78",
     "locked": false,
     "schema_version": 3,
     "solution": true,
     "task": false
    }
   },
   "outputs": [],
   "source": [
    "# Create a sigmoid function and a single neuron\n",
    "#\n",
    "def sigmoid(a):\n",
    "    '''Sigmoid function with input argument a that is the activation'''\n",
    "    # YOUR CODE HERE\n",
    "\n",
    "def single_neuron(x, w):\n",
    "    \"\"\"\n",
    "    Single neuron prediction.\n",
    "    \n",
    "    Single output and N instances of k independent variables.\n",
    "    \n",
    "    Args:\n",
    "        x (array[float]): input to the neuron. x.shape=(N,k) \n",
    "        w (array[float]): weights, w.shape=(k+1,)\n",
    "            The zero index weight is the bias term.\n",
    "\n",
    "    Returns:\n",
    "        y (float): the output of the neuron\n",
    "    \"\"\"\n",
    "    # YOUR CODE HERE"
   ]
  },
  {
   "cell_type": "code",
   "execution_count": null,
   "metadata": {
    "deletable": false,
    "editable": false,
    "nbgrader": {
     "cell_type": "code",
     "checksum": "386c1155a9c03abfb2d9ec0eb142fdaf",
     "grade": true,
     "grade_id": "cell-4cf1dfdcd8c764f9",
     "locked": true,
     "points": 1,
     "schema_version": 3,
     "solution": false,
     "task": false
    }
   },
   "outputs": [],
   "source": [
    "assert sigmoid(0.0)==0.5, f'sigmoid(0.0)={sigmoid(0.0)}!=0.5'\n",
    "assert (sigmoid(np.zeros(3))==0.5*np.ones(3)).all(), f'The sigmoid function should work with arrays'\n",
    "\n",
    "x=np.array([[0,0],[1,1],[3,2]])\n",
    "w=np.array([0.,1.,-1.])\n",
    "output = single_neuron(x, w)\n",
    "assert np.abs(output[0]-0.5)<0.01, f'output[0] = {output[0]}'\n"
   ]
  },
  {
   "cell_type": "code",
   "execution_count": null,
   "metadata": {
    "deletable": false,
    "nbgrader": {
     "cell_type": "code",
     "checksum": "09ff98d79ca552a2bcaea2640717d4e3",
     "grade": false,
     "grade_id": "cell-f6c527ec58acb4a6",
     "locked": false,
     "schema_version": 3,
     "solution": true,
     "task": false
    }
   },
   "outputs": [],
   "source": [
    "# Split the data and plot\n",
    "#\n",
    "# YOUR CODE HERE"
   ]
  },
  {
   "cell_type": "code",
   "execution_count": null,
   "metadata": {
    "deletable": false,
    "nbgrader": {
     "cell_type": "code",
     "checksum": "6417b3b71d1462a1afe28992a275e929",
     "grade": false,
     "grade_id": "cell-0561c03180ebba8f",
     "locked": false,
     "schema_version": 3,
     "solution": true,
     "task": false
    }
   },
   "outputs": [],
   "source": [
    "# Train the single neuron binary classifier\n",
    "#\n",
    "# YOUR CODE HERE"
   ]
  },
  {
   "cell_type": "markdown",
   "metadata": {
    "deletable": false,
    "editable": false,
    "nbgrader": {
     "cell_type": "markdown",
     "checksum": "a0cfc44c9133ab5e5fc652856f175d4a",
     "grade": false,
     "grade_id": "cell-3d9b3b46ff36be23",
     "locked": true,
     "points": 2,
     "schema_version": 3,
     "solution": false,
     "task": true
    }
   },
   "source": [
    "Evaluate the final binary classifier and plot the 25%, 50%, 75% decision boundaries"
   ]
  },
  {
   "cell_type": "code",
   "execution_count": null,
   "metadata": {
    "deletable": false,
    "nbgrader": {
     "cell_type": "code",
     "checksum": "1bb738977fdf261a94697352d67e5a92",
     "grade": false,
     "grade_id": "cell-84544bc7235b722d",
     "locked": false,
     "schema_version": 3,
     "solution": true,
     "task": false
    }
   },
   "outputs": [],
   "source": [
    "# Evaluate the final binary classifier and plot the 25%, 50%, 75% decision boundaries\n",
    "#\n",
    "# YOUR CODE HERE"
   ]
  },
  {
   "cell_type": "code",
   "execution_count": null,
   "metadata": {},
   "outputs": [],
   "source": []
  }
 ],
 "metadata": {
  "@webio": {
   "lastCommId": null,
   "lastKernelId": null
  },
  "kernelspec": {
   "display_name": "Python 3",
   "language": "python",
   "name": "python3"
  },
  "language_info": {
   "codemirror_mode": {
    "name": "ipython",
    "version": 3
   },
   "file_extension": ".py",
   "mimetype": "text/x-python",
   "name": "python",
   "nbconvert_exporter": "python",
   "pygments_lexer": "ipython3",
   "version": "3.8.8"
  },
  "nav_menu": {},
  "toc": {
   "navigate_menu": true,
   "number_sections": true,
   "sideBar": true,
   "threshold": 6,
   "toc_cell": false,
   "toc_section_display": "block",
   "toc_window_display": false
  }
 },
 "nbformat": 4,
 "nbformat_minor": 1
}
